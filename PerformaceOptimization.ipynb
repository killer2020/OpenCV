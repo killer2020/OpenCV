{
 "cells": [
  {
   "cell_type": "code",
   "execution_count": 1,
   "metadata": {},
   "outputs": [],
   "source": [
    "import numpy as np\n",
    "import cv2\n"
   ]
  },
  {
   "cell_type": "code",
   "execution_count": 14,
   "metadata": {},
   "outputs": [
    {
     "name": "stdout",
     "output_type": "stream",
     "text": [
      "95376911699291\n",
      "95379016621511\n",
      "2.10492222\n"
     ]
    }
   ],
   "source": [
    "#xrange was renamed to range in pyhton3\n",
    "\n",
    "img = cv2.imread('Image1.jpg')\n",
    "e1 = cv2.getTickCount()\n",
    "\n",
    "for i in range(5,49,2):\n",
    "    img=cv2.medianBlur(img,i)\n",
    "e2 = cv2.getTickCount()\n",
    "\n",
    "t = (e2-e1)/cv2.getTickFrequency()\n",
    "\n",
    "print(e1)\n",
    "print(e2)\n",
    "print(t)\n"
   ]
  },
  {
   "cell_type": "code",
   "execution_count": 10,
   "metadata": {},
   "outputs": [
    {
     "data": {
      "text/plain": [
       "False"
      ]
     },
     "execution_count": 10,
     "metadata": {},
     "output_type": "execute_result"
    }
   ],
   "source": [
    "cv2.useOptimized()"
   ]
  },
  {
   "cell_type": "code",
   "execution_count": 8,
   "metadata": {},
   "outputs": [
    {
     "name": "stdout",
     "output_type": "stream",
     "text": [
      "86.5 ms ± 1.55 ms per loop (mean ± std. dev. of 7 runs, 10 loops each)\n"
     ]
    }
   ],
   "source": [
    "%timeit res= cv2.medianBlur(img,49)"
   ]
  },
  {
   "cell_type": "code",
   "execution_count": 11,
   "metadata": {},
   "outputs": [
    {
     "name": "stdout",
     "output_type": "stream",
     "text": [
      "85.6 ms ± 1.25 ms per loop (mean ± std. dev. of 7 runs, 10 loops each)\n"
     ]
    }
   ],
   "source": [
    "cv2.setUseOptimized(True)\n",
    "cv2.useOptimized()\n",
    "%timeit res= cv2.medianBlur(img,49)"
   ]
  },
  {
   "cell_type": "code",
   "execution_count": 12,
   "metadata": {},
   "outputs": [
    {
     "name": "stdout",
     "output_type": "stream",
     "text": [
      "312 ns ± 8.36 ns per loop (mean ± std. dev. of 7 runs, 1000000 loops each)\n",
      "62.7 ns ± 1.62 ns per loop (mean ± std. dev. of 7 runs, 10000000 loops each)\n",
      "563 ns ± 14.9 ns per loop (mean ± std. dev. of 7 runs, 1000000 loops each)\n",
      "561 ns ± 11 ns per loop (mean ± std. dev. of 7 runs, 1000000 loops each)\n"
     ]
    }
   ],
   "source": [
    "x =5\n",
    "\n",
    "%timeit y = x**2\n",
    "%timeit y = x*x\n",
    "z= np.uint8([5])\n",
    "%timeit y =z*z\n",
    "%timeit y = np.square(z)\n"
   ]
  },
  {
   "cell_type": "code",
   "execution_count": 17,
   "metadata": {},
   "outputs": [
    {
     "name": "stdout",
     "output_type": "stream",
     "text": [
      "43.9 µs ± 1.56 µs per loop (mean ± std. dev. of 7 runs, 10000 loops each)\n",
      "4.47 ms ± 46.2 µs per loop (mean ± std. dev. of 7 runs, 100 loops each)\n"
     ]
    }
   ],
   "source": [
    "img1= cv2.cvtColor(img, cv2.COLOR_BGR2GRAY)\n",
    "%timeit z = cv2.countNonZero(img1)\n",
    "%timeit z = np.count_nonzero(img)"
   ]
  },
  {
   "cell_type": "code",
   "execution_count": null,
   "metadata": {},
   "outputs": [],
   "source": []
  }
 ],
 "metadata": {
  "kernelspec": {
   "display_name": "Python 3",
   "language": "python",
   "name": "python3"
  },
  "language_info": {
   "codemirror_mode": {
    "name": "ipython",
    "version": 3
   },
   "file_extension": ".py",
   "mimetype": "text/x-python",
   "name": "python",
   "nbconvert_exporter": "python",
   "pygments_lexer": "ipython3",
   "version": "3.6.5"
  }
 },
 "nbformat": 4,
 "nbformat_minor": 2
}
